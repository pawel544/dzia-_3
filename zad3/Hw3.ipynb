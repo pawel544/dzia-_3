{
 "cells": [
  {
   "cell_type": "code",
   "execution_count": 5,
   "id": "beac4d21-688e-4160-aeed-67474f3d96ef",
   "metadata": {},
   "outputs": [
    {
     "name": "stdout",
     "output_type": "stream",
     "text": [
      "[5.6 4.1 6.5]\n"
     ]
    }
   ],
   "source": [
    "import numpy as np\n",
    "\n",
    "def hipotez(x, theta):\n",
    "    return np.dot(x,theta)\n",
    "x= np.array([[2,5,6],\n",
    "            [1,3,5],\n",
    "            [7,9,2]]\n",
    "            )\n",
    "theta= np.array([0.5, 0.2,0.6])\n",
    "\n",
    "\n",
    "y=hipotez(x,theta)\n",
    "\n",
    "print(y)"
   ]
  },
  {
   "cell_type": "code",
   "execution_count": 4,
   "id": "ed10dae2-7846-40b7-84ee-88ac02ab2ceb",
   "metadata": {},
   "outputs": [
    {
     "name": "stdout",
     "output_type": "stream",
     "text": [
      "53.403333333333336\n"
     ]
    }
   ],
   "source": [
    "def hipotez(x, theta):\n",
    "    return np.dot(x,theta)\n",
    "def funkccja_straty(x,y, theta):\n",
    "    m=len(y)\n",
    "    przewidywane_y=hipotez(x,theta)\n",
    "    blad=przewidywane_y-y\n",
    "    strata=(1/(2 * m))* np.dot(blad.T, blad)\n",
    "    return strata\n",
    "\n",
    "x= np.array([[2,5,6],\n",
    "            [1,3,5],\n",
    "            [7,9,2]]\n",
    "            )\n",
    "y=np.array([10,15,20])\n",
    "theta= np.array([0.5, 0.2,0.6])\n",
    "stra=funkccja_straty(x,y,theta)\n",
    "\n",
    "\n",
    "\n",
    "print(stra)"
   ]
  },
  {
   "cell_type": "code",
   "execution_count": 6,
   "id": "853d0282-312c-4e50-b662-a2e94b327d35",
   "metadata": {},
   "outputs": [
    {
     "name": "stdout",
     "output_type": "stream",
     "text": [
      "[[13.46666667  8.37333333 37.92      ]\n",
      " [23.66666667 14.33333333 63.36      ]\n",
      " [20.         11.72       47.2       ]]\n"
     ]
    }
   ],
   "source": [
    "def hipotez(x, theta):\n",
    "    return np.dot(x,theta)\n",
    "def funkccja_straty(x,y, theta):\n",
    "    m=len(y)\n",
    "    przewidywane_y=hipotez(x,theta)\n",
    "    blad=przewidywane_y-y\n",
    "    strata=(1/(2 * m))* np.dot(blad.T, blad)\n",
    "    return strata\n",
    "\n",
    "def grandient(x,y,lern,theta):\n",
    "    m=len(y)\n",
    "    przewidwane_y=hipotez(x,theta)\n",
    "    blad=przewidwane_y-y\n",
    "    grand=(1/m)* np.dot(x.T, blad)\n",
    "    the=theta-lern*grand\n",
    "    return the\n",
    "x= np.array([[2,5,6],\n",
    "            [1,3,5],\n",
    "            [7,9,2]]\n",
    "            )\n",
    "y=np.array([10,15,20])\n",
    "theta= np.array([0.5, 0.2,0.6])\n",
    "\n",
    "lern=0.4\n",
    "the=grandient(x,y,theta,lern)\n",
    "\n",
    "\n",
    "print(the)"
   ]
  },
  {
   "cell_type": "code",
   "execution_count": null,
   "id": "9c7dcd67-1e75-4413-8d20-03f677979ab9",
   "metadata": {},
   "outputs": [],
   "source": [
    "import numpy as np\n",
    "import pandas as pd\n",
    "dane= pd.DataFrame(\"C:\\Users\\pawel\\Downloads\\Housing.csv\")\n",
    "x=dane[[\"area\",\"bedrooms\",\"stories\"]].values\n",
    "y=dane[\"price\"].values\n",
    "\n",
    "x=(x-np.mean(x, axis=0))/ np.std(x, axis=0)\n",
    "x= np.c_[np.ones(x.shape[0], x)]\n",
    "\n",
    "\n",
    "def funkccja_straty(x,y, theta):\n",
    "    m=len(y)\n",
    "    przewidywane_y=np.dot(x,theta)\n",
    "    blad=przewidywane_y-y\n",
    "    strata=(1/(2 * m))* np.dot(blad.T, blad)\n",
    "    return strata\n",
    "\n",
    "def grandient(x,y,lern,theta, iteracja):\n",
    "    m=len(y)\n",
    "    hi_koszt=[]\n",
    "    for i in range(iteracja):\n",
    "        przewidwane_y=np.dot(x,theta)\n",
    "        blad=przewidwane_y-y\n",
    "        grand=(1/m)* np.dot(x.T, blad)\n",
    "        the=theta-lern*grand\n",
    "        koszt=funkccja_straty(x,y, theta)\n",
    "        hi_koszt.append(koszt)\n",
    "    return the, hi_koszt\n",
    "\n",
    "theta= np.zeros(x.shape[1])\n",
    "iteracja=546\n",
    "lern=0.4\n",
    "the=grandient(x,y,theta,lern,iteracja)\n",
    "roz_analityczne=pd.lilnag.liv(x.T.dot(x)).dot(x.T).dot(y.T)\n",
    "print(the)\n",
    "print(hi_koszt)\n",
    "print(roz_analityczne)"
   ]
  },
  {
   "cell_type": "code",
   "execution_count": null,
   "id": "875ba90b-ac87-4887-a83a-f5a02058dde1",
   "metadata": {},
   "outputs": [],
   "source": []
  }
 ],
 "metadata": {
  "kernelspec": {
   "display_name": "Python 3 (ipykernel)",
   "language": "python",
   "name": "python3"
  },
  "language_info": {
   "codemirror_mode": {
    "name": "ipython",
    "version": 3
   },
   "file_extension": ".py",
   "mimetype": "text/x-python",
   "name": "python",
   "nbconvert_exporter": "python",
   "pygments_lexer": "ipython3",
   "version": "3.12.2"
  }
 },
 "nbformat": 4,
 "nbformat_minor": 5
}
