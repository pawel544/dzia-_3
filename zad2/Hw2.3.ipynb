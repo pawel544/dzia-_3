{
 "cells": [
  {
   "cell_type": "code",
   "execution_count": null,
   "id": "1e50a781-7e86-450f-9b54-e29f28a3be4e",
   "metadata": {},
   "outputs": [],
   "source": [
    "import pandas as pd\n",
    "import matplotlib.pyplot as plt\n",
    "\n",
    "file=pd.read_csv(\"C:\\Users\\pawel\\Downloads\\bestsellers with categories.csv\")\n",
    "filee=pd.DataFrame(file)"
   ]
  },
  {
   "cell_type": "code",
   "execution_count": null,
   "id": "f6066bb7-a049-4924-9de1-1adbca200316",
   "metadata": {},
   "outputs": [],
   "source": [
    "print(filee.head()[0:6])\n",
    "print(filee.shape)\n"
   ]
  },
  {
   "cell_type": "code",
   "execution_count": null,
   "id": "8bc71474-070f-48b6-bdc7-554f4a0ff17a",
   "metadata": {},
   "outputs": [],
   "source": [
    "missing=filee.isnull().sum(axis=1)/ len(filee)\n",
    "\n",
    "if missing==True:\n",
    "    print(\"tak\")\n",
    "else:\n",
    "    print(\"Nie\")"
   ]
  },
  {
   "cell_type": "code",
   "execution_count": null,
   "id": "2d287cd4-da40-4a37-bfe0-6ab5781e80c2",
   "metadata": {},
   "outputs": [],
   "source": [
    "unique_value=filee[\"genre\"].unique()\n",
    "print(unique_value)"
   ]
  },
  {
   "cell_type": "code",
   "execution_count": null,
   "id": "aadbae9d-fbf1-47ec-969d-8a9019b5d9b9",
   "metadata": {},
   "outputs": [],
   "source": [
    "filee[\"Price\"].plot( kind='hist')\n",
    "min_price= filee[\"Price\"].min()\n",
    "max_price=filee[\"Price\"].max()\n",
    "mean_price=filee[\"Price\"].mean()\n",
    "median_price=filee[\"Price\"].median()"
   ]
  },
  {
   "cell_type": "code",
   "execution_count": null,
   "id": "9bde6877-adcc-44ab-9127-a3ad765b8ab7",
   "metadata": {},
   "outputs": [],
   "source": [
    "max_rating=filee[\"Rating\"].max()\n",
    "book_with_rating= filee[filee[\"Rating\"].max==max_rating].shape[0]\n",
    "filee.loc[file[\"Reviews\"].idxmax()]"
   ]
  },
  {
   "cell_type": "code",
   "execution_count": null,
   "id": "a310df69-64ac-4d44-b632-5731e37e8779",
   "metadata": {},
   "outputs": [],
   "source": [
    "top_50=filee[filee['data']==2015]\n",
    "top_50[top_50['Price'].idxmax()]\n",
    "filee[(filee[\"Data\"]==2010& filee[\"Genre\"]==\"Fiction\")].shape[0]\n",
    "filee[(filee['Rating']==\"4.9\")& (filee[\"Data\"].isin[2010,2011])].shape[0]\n",
    "top_50[top_50[\"Price\"<8]].sort_values(by=\"Price\")"
   ]
  },
  {
   "cell_type": "code",
   "execution_count": null,
   "id": "f22f2f67-0102-4118-866c-e69fa1efc88d",
   "metadata": {},
   "outputs": [],
   "source": [
    "fikcjon=file[file[\"Genre\"]==\"Fiction\"]\n",
    "max_cena=fikcjon[\"Price\"].max()\n",
    "fikcjon[fikcjon['Price']==max_cena]\n",
    "min_price=fikcjon[\"Price\"].min()\n",
    "fikcjon[fikcjon[\"Price\"]==min_price]"
   ]
  },
  {
   "cell_type": "code",
   "execution_count": null,
   "id": "d43d967b-d27b-41b9-b9c2-4228ddc84b84",
   "metadata": {},
   "outputs": [],
   "source": [
    "non_fiction=filee[filee[\"Genre\"]==\"Non Fiction\"]\n",
    "max_non=non_fiction[\"Price\"].max()\n",
    "min_non=non_fiction[\"Price\"].min()\n",
    "non_fiction[non_fiction[\"Price\"]==max_non]\n",
    "non_fiction[non_fiction[\"Price\"]==min_non]"
   ]
  },
  {
   "cell_type": "code",
   "execution_count": null,
   "id": "04bb97ea-fcdb-444e-a041-8cd0e231eec7",
   "metadata": {},
   "outputs": [],
   "source": [
    "n_value=filee[[\"Author\"]]\n",
    "n_column=n_value.groupby['Author'].agg({\"Author\":\"count\"}).reset_index()\n",
    "n_column=[\"Author\",\"Book\"]\n",
    "print(n_column.shape)\n",
    "max_author=n_column.loc[n_column[\"Book\"]].idmax()\n",
    "print(max_author[\"Book\"])\n",
    "print(max_author[\"Author\"])"
   ]
  },
  {
   "cell_type": "code",
   "execution_count": null,
   "id": "9e7d55a2-0abb-48d6-a7cb-fe7fb2e9885e",
   "metadata": {},
   "outputs": [],
   "source": [
    "new_value=filee[[\"Author\",\"Rating\"]]\n",
    "new_column=new_value.groupby['Author'].agg({\"Rating\":\"mean\"}).reset_index()\n",
    "new_min_rating=new_column.loc[new_value[\"Rating\"].idxmin()]\n",
    "print(new_min_rating[\"Author\"])\n",
    "print(new_min_rating[\"Rating\"])"
   ]
  },
  {
   "cell_type": "code",
   "execution_count": null,
   "id": "0e9d0b65-47ec-4af3-8574-c03d82300d1c",
   "metadata": {},
   "outputs": [],
   "source": [
    "ne_tabel=pd.concat([max_author,new_column], axis=1)\n",
    "sortowane=ne_tabel.sort_values(by=\"Author\")\n",
    "print(sortowane[\"Author\"].head(1))"
   ]
  }
 ],
 "metadata": {
  "kernelspec": {
   "display_name": "Python 3 (ipykernel)",
   "language": "python",
   "name": "python3"
  },
  "language_info": {
   "codemirror_mode": {
    "name": "ipython",
    "version": 3
   },
   "file_extension": ".py",
   "mimetype": "text/x-python",
   "name": "python",
   "nbconvert_exporter": "python",
   "pygments_lexer": "ipython3",
   "version": "3.12.2"
  }
 },
 "nbformat": 4,
 "nbformat_minor": 5
}
