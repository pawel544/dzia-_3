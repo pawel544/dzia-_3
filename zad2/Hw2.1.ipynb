{
 "cells": [
  {
   "cell_type": "code",
   "execution_count": null,
   "id": "fbe5fed0-c865-4da5-9738-fb9ba6301b63",
   "metadata": {},
   "outputs": [],
   "source": [
    "import matplotlib.pyplot as plt\n",
    "import requests\n",
    "from bs4 import BeautifulSoup\n",
    "import pandas as pd\n",
    "import matplotlib.pyplot as pyl"
   ]
  },
  {
   "cell_type": "code",
   "execution_count": null,
   "id": "d65b2ac0-5572-4344-a76a-bdd577666517",
   "metadata": {},
   "outputs": [],
   "source": [
    "url=\"https://en.wikipedia.org/wiki/Demographics_of_Ukraine\"\n",
    "response= requests.get(url)\n",
    "soup=BeautifulSoup(response.text, 'lxml')\n",
    "wiki=soup.find_all('table', class_=\"wikitable sortable\")"
   ]
  },
  {
   "cell_type": "code",
   "execution_count": null,
   "id": "1dd6218c-2ca3-4525-b60d-70c36a254003",
   "metadata": {},
   "outputs": [],
   "source": [
    "for trol in wiki:\n",
    "    thl=[]\n",
    "    gnom=trol.find_all('tr')\n",
    "    for gnol in gnom[0].find_all('th'):\n",
    "        thl.append(gnol.text.strip())\n",
    "        tabele={tehel:[]  for tehel in thl}\n",
    "\n",
    "\n",
    "    for angel in gnom[1:]:\n",
    "        tp=angel.find_all('td')\n",
    "        if len(tp)==len(thl):\n",
    "            for th, tpl in zip(thl,tp ):\n",
    "                tabele[th].append(tpl.text.strip())\n"
   ]
  },
  {
   "cell_type": "code",
   "execution_count": null,
   "id": "3c165ec8-93e6-48f4-91f9-3e3e6db96014",
   "metadata": {},
   "outputs": [],
   "source": [
    "wiersze= pd.DataFrame(tabele)\n",
    "wiersz=pd.concat([wiersze, wiersze], ignore_index=True)\n",
    "wp=wiersz.replace(\"-\",pd.NA, inplace=True)\n",
    "tlc=wiersz.head()[0:1]"
   ]
  },
  {
   "cell_type": "code",
   "execution_count": null,
   "id": "4742eb67-32a3-45cf-9da5-28eaf4f79cbf",
   "metadata": {},
   "outputs": [],
   "source": [
    "iersz.fillna(0, inplace=True)\n",
    "print(wiersz.dtypes)\n",
    "value=wiersz.isnull().sum()\n",
    "new_wiersz=wiersz.drop([6])\n",
    "print(new_wiersz)\n",
    "wiersz.fillna(wiersz.mean(), inplace=True)\n",
    "print(wiersz)"
   ]
  },
  {
   "cell_type": "code",
   "execution_count": null,
   "id": "cdc7c4d7-1c74-4b73-9b19-7eca3c8bb09a",
   "metadata": {},
   "outputs": [],
   "source": [
    "age=wiersz['Birth rate 2019'].mean()\n",
    "age_Ukrain=wiersz[wiersz['Birth rate 2019']>[age]]\n",
    "max20024=wiersz.loc[wiersz['Birth rate 2019'].idxmax()]\n",
    "plt.ylabel('Birth rate 2019',fontdict=\"small\",)"
   ]
  }
 ],
 "metadata": {
  "kernelspec": {
   "display_name": "Python 3 (ipykernel)",
   "language": "python",
   "name": "python3"
  },
  "language_info": {
   "codemirror_mode": {
    "name": "ipython",
    "version": 3
   },
   "file_extension": ".py",
   "mimetype": "text/x-python",
   "name": "python",
   "nbconvert_exporter": "python",
   "pygments_lexer": "ipython3",
   "version": "3.12.2"
  }
 },
 "nbformat": 4,
 "nbformat_minor": 5
}
