{
 "cells": [
  {
   "cell_type": "code",
   "execution_count": null,
   "id": "b25ded3d-b66e-4ab1-b60d-3e4ee660d18c",
   "metadata": {},
   "outputs": [],
   "source": [
    "import pandas as pd\n",
    "\n",
    "file= pd.read_csv(\"C:\\Users\\pawel\\Downloads\\2017_jun_final - 2017_jun_final.csv\")\n",
    "filee=pd.DataFrame(file)"
   ]
  },
  {
   "cell_type": "code",
   "execution_count": null,
   "id": "dfe9b051-1ac4-46a6-b311-d49a35ada8af",
   "metadata": {},
   "outputs": [],
   "source": [
    "file_read=filee.head()\n",
    "print(filee.shape)\n",
    "print(filee.dtypes)"
   ]
  },
  {
   "cell_type": "code",
   "execution_count": null,
   "id": "896b82a1-660f-4414-8ac6-9669aeb51231",
   "metadata": {},
   "outputs": [],
   "source": [
    "th=filee.replace(\" \",pd.nan)\n",
    "sum=th.isnull().sum()/ len(th)\n",
    "column=[filee for fil in filee.columns if \" \" and fil in fil!=\"Język programowania\"]\n",
    "filee.drop(columns=column, inplace=True)"
   ]
  },
  {
   "cell_type": "code",
   "execution_count": null,
   "id": "4d34e01d-e8aa-46d7-9d00-5beb4d9e981d",
   "metadata": {},
   "outputs": [],
   "source": [
    "ht= filee.replace(\" \", pd.nan)\n",
    "su=ht.isnull().sum()/ len(ht)\n",
    "filee.dropna(inplace=True)\n",
    "print(filee.shape)"
   ]
  },
  {
   "cell_type": "code",
   "execution_count": null,
   "id": "237be6bd-b108-4cd9-a703-4979e807a607",
   "metadata": {},
   "outputs": [],
   "source": [
    "python_data= filee[filee[\"Język programowania\"]==\"Python\"]\n",
    "print(python_data.shape)"
   ]
  },
  {
   "cell_type": "code",
   "execution_count": null,
   "id": "452fbf99-f573-439a-9bd6-e6f8b83f1082",
   "metadata": {},
   "outputs": [],
   "source": [
    "rupy=python_data.groupby[\"Stanowisko\"].mean()\n",
    "price=grupy.agg({\"Wynagrodzenie.za.miesiąc\":[\"min\", \"max\"]})\n",
    "python_data[\"avg\"]=python_data[\"Wynagrodzenie.za.miesiąc\"].apply(fill_avg_salary)\n",
    "status=python_data.describe()\n",
    "python_data.to_csv()"
   ]
  }
 ],
 "metadata": {
  "kernelspec": {
   "display_name": "Python 3 (ipykernel)",
   "language": "python",
   "name": "python3"
  },
  "language_info": {
   "codemirror_mode": {
    "name": "ipython",
    "version": 3
   },
   "file_extension": ".py",
   "mimetype": "text/x-python",
   "name": "python",
   "nbconvert_exporter": "python",
   "pygments_lexer": "ipython3",
   "version": "3.12.2"
  }
 },
 "nbformat": 4,
 "nbformat_minor": 5
}
