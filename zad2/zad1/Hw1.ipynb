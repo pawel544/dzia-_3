{
 "cells": [
  {
   "cell_type": "code",
   "execution_count": null,
   "id": "6b26cf96-9e2e-4f0c-af84-85e9545dabe3",
   "metadata": {},
   "outputs": [],
   "source": [
    "import numpy as np"
   ]
  },
  {
   "cell_type": "code",
   "execution_count": null,
   "id": "c734e345-f8e6-448c-a60b-3d84e7a8f9db",
   "metadata": {},
   "outputs": [],
   "source": [
    "#polecenie 1\n",
    "wektor=np.arange(1,11)\n",
    "print(wektor)"
   ]
  },
  {
   "cell_type": "code",
   "execution_count": null,
   "id": "a3292f40-a3f1-43f2-bd50-d17421a40cb7",
   "metadata": {},
   "outputs": [],
   "source": [
    "#polecenie 2\n",
    "pol_2=np.zeros((3,3), dtype=int)\n",
    "print(pol_2)"
   ]
  },
  {
   "cell_type": "code",
   "execution_count": null,
   "id": "c640f7b1-7a70-44c7-9d8a-118683c31be4",
   "metadata": {},
   "outputs": [],
   "source": [
    "#polecenie3\n",
    "pol_3=np.random.randint(1,11, size=(4,4))\n",
    "print(pol_3)"
   ]
  },
  {
   "cell_type": "code",
   "execution_count": null,
   "id": "582ff756-0704-401a-b2a4-649b837501e4",
   "metadata": {},
   "outputs": [],
   "source": [
    "#polecenie4\n",
    "pol_4=np.random.randint(0,2, size=(4,4))\n",
    "print(pol_4)"
   ]
  },
  {
   "cell_type": "code",
   "execution_count": null,
   "id": "b18d58a6-a96e-4034-b991-ae8c3e70a012",
   "metadata": {},
   "outputs": [],
   "source": [
    "#polecenie5\n",
    "pol_5_1=np.random.randint(1,11,size=(5))\n",
    "pol_5_2=np.random.randint(1,11,size=(5))\n",
    "dodawanie=pol_5_1+pol_5_2\n",
    "odejmowanie=pol_5_1-pol_5_2\n",
    "mnożenie=pol_5_1*pol_5_2\n",
    "print(dodawanie)\n",
    "print(odejmowanie)\n",
    "print(mnożenie)"
   ]
  },
  {
   "cell_type": "code",
   "execution_count": null,
   "id": "1b27fd5f-6af9-41c3-901b-e7ea52f8c6a3",
   "metadata": {},
   "outputs": [],
   "source": [
    "#polecenie6\n",
    "pol_6_1=np.random.random(size=7)\n",
    "pol_6_2=np.random.random(size=7)\n",
    "pol_6_1_int=(pol_6_1*10).astype(int)\n",
    "pol_6_2_int=(pol_6_2*10).astype(int)\n",
    "print(pol_6_2_int*pol_6_2_int)"
   ]
  },
  {
   "cell_type": "code",
   "execution_count": null,
   "id": "04aa495f-11b0-4261-a09e-c4f2f1a3601e",
   "metadata": {},
   "outputs": [],
   "source": [
    "#polecenie7\n",
    "pol_7_1=np.random.random(size=(2,2))\n",
    "pol_7_2=np.random.random(size=(2,3))\n",
    "pol_7_2_int=(pol_7_2*10).astype(int)\n",
    "pol_7_1_int=(pol_7_1*10).astype(int)\n",
    "c=np.dot(pol_7_1_int,pol_7_2_int)\n",
    "print(c)"
   ]
  },
  {
   "cell_type": "code",
   "execution_count": null,
   "id": "4063f4c2-414e-46f0-8b5d-0be89b199bcc",
   "metadata": {},
   "outputs": [],
   "source": [
    "#polecenie8\n",
    "pol_8=np.random.randint(1,11,size=(3,3))\n",
    "odwr=np.linalg.inv(pol_8)\n",
    "print(odwr)"
   ]
  },
  {
   "cell_type": "code",
   "execution_count": null,
   "id": "41f2cf93-db79-4a28-8db3-5ce758903c43",
   "metadata": {},
   "outputs": [],
   "source": [
    "#polecenie9\n",
    "pol_9=np.random.randint(0,2, size=(4,4))\n",
    "print(pol_9)\n",
    "trans=pol_9.T\n",
    "print(trans)"
   ]
  },
  {
   "cell_type": "code",
   "execution_count": null,
   "id": "218c0256-c636-4190-b7a0-bfd0d679b2c6",
   "metadata": {},
   "outputs": [],
   "source": [
    "#polecenie10\n",
    "pol_10_1=np.random.randint(1,11, size=(3,4))\n",
    "pol_10_2=np.random.randint(1,11, size=4)\n",
    "q=np.dot(pol_10_1,pol_10_2)\n",
    "print(q)"
   ]
  },
  {
   "cell_type": "code",
   "execution_count": null,
   "id": "6ce0cb9c-b297-4e27-9dbc-6e73039e8c2d",
   "metadata": {},
   "outputs": [],
   "source": [
    "#polecenie11\n",
    "pol_11_1=np.random.randint(0,2,size=(2,3))\n",
    "pol_11_2=np.random.randint(0,2,size=3)\n",
    "w=np.dot(pol_11_1,pol_11_2)\n",
    "print(w)"
   ]
  },
  {
   "cell_type": "code",
   "execution_count": null,
   "id": "6e7aa97a-3a17-4cb5-858b-6f7d88f66ce7",
   "metadata": {},
   "outputs": [],
   "source": [
    "#polecenie12\n",
    "pol_12_1=np.random.randint(1,11,size=(2,2))\n",
    "pol_12_2=np.random.randint(1,11,size=(2,2))\n",
    "print(pol_12_1*pol_12_2)"
   ]
  },
  {
   "cell_type": "code",
   "execution_count": null,
   "id": "c6b31243-ea8c-482d-885d-6d637f1d0a6b",
   "metadata": {},
   "outputs": [],
   "source": [
    "#polecenie13\n",
    "pol_13_1=np.random.randint(1,11,size=(2,2))\n",
    "pol_13_2=np.random.randint(1,11,size=(2,2))\n",
    "u=np.dot(pol_13_1,pol_13_2)\n",
    "print(u)"
   ]
  },
  {
   "cell_type": "code",
   "execution_count": null,
   "id": "2c1ef6ae-98a7-4388-bb28-f6ac42f575b8",
   "metadata": {},
   "outputs": [],
   "source": [
    "#polecenie14\n",
    "pol_14=np.random.randint(1,101, size=(5,5))\n",
    "pol_14_sum=np.sum(pol_14)\n",
    "print(pol_14_sum)"
   ]
  },
  {
   "cell_type": "code",
   "execution_count": null,
   "id": "2865dcdf-2a6c-4f7c-b83d-bd482e10ce84",
   "metadata": {},
   "outputs": [],
   "source": [
    "#polecenie15\n",
    "pol_15_1=np.random.randint(1,11,size=(4,4))\n",
    "pol_15_2=np.random.randint(1,11,size=(4,4))\n",
    "pol_15_roz=pol_15_1-pol_15_2\n",
    "print(pol_15_roz)"
   ]
  },
  {
   "cell_type": "code",
   "execution_count": null,
   "id": "d49981de-6834-437e-a7bd-c8bd6b48ca08",
   "metadata": {},
   "outputs": [],
   "source": [
    "#polecenie16\n",
    "pol_16=np.random.randint(0,2,size=(3,3))\n",
    "pol_16_sum=np.sum(pol_16, axis=1)\n",
    "print(pol_16)\n",
    "print(pol_16_sum)"
   ]
  },
  {
   "cell_type": "code",
   "execution_count": null,
   "id": "0dce8a2b-98bc-422e-b417-6849fe7db1cf",
   "metadata": {},
   "outputs": [],
   "source": [
    "#polecenie17\n",
    "pol_17=np.random.random(size=(3,3))\n",
    "pol_17_int=(pol_17*10).astype(int)\n",
    "pol_17_kwa=np.square(pol_17_int)\n",
    "print(pol_17_kwa)"
   ]
  },
  {
   "cell_type": "code",
   "execution_count": null,
   "id": "4b657325-99a0-46cc-a745-049e165787a9",
   "metadata": {},
   "outputs": [],
   "source": []
  }
 ],
 "metadata": {
  "kernelspec": {
   "display_name": "Python 3 (ipykernel)",
   "language": "python",
   "name": "python3"
  },
  "language_info": {
   "codemirror_mode": {
    "name": "ipython",
    "version": 3
   },
   "file_extension": ".py",
   "mimetype": "text/x-python",
   "name": "python",
   "nbconvert_exporter": "python",
   "pygments_lexer": "ipython3",
   "version": "3.12.2"
  }
 },
 "nbformat": 4,
 "nbformat_minor": 5
}
