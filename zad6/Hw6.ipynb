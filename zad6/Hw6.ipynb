{
 "cells": [
  {
   "cell_type": "code",
   "execution_count": 1,
   "id": "7999409b-a797-4d74-bad2-5dd525c5a3f0",
   "metadata": {},
   "outputs": [],
   "source": [
    "import pandas as pd\n",
    "import os\n",
    "from sklearn.cluster import KMeans\n",
    "import matplotlib.pyplot as plt\n",
    "from mpl_toolkits.mplot3d import Axes3D\n",
    "from sklearn.decomposition import PCA\n",
    "from sklearn.preprocessing import StandardScaler\n",
    "import seaborn as sns\n",
    "import os"
   ]
  },
  {
   "cell_type": "code",
   "execution_count": 2,
   "id": "35ff5d8f-290c-49a4-a34c-22ac226a5e65",
   "metadata": {},
   "outputs": [],
   "source": [
    "file=os.getcwd()\n",
    "file_2dd=os.path.join(file,\"data\",\"data_2d.csv\")\n",
    "file_3dd=os.path.join(file,\"data\",\"mnist.csv\")\n",
    "\n",
    "file_2d= pd.read_csv(file_2dd)\n",
    "file_3d=pd.read_csv(file_3dd)"
   ]
  },
  {
   "cell_type": "code",
   "execution_count": 3,
   "id": "4f65a0c5-56dd-4f50-b98c-fd37acc24f3a",
   "metadata": {},
   "outputs": [],
   "source": [
    "skalar= StandardScaler()\n",
    "d2=skalar.fit_transform(file_2d)\n",
    "d3=skalar.fit_transform(file_3d)\n",
    "direction=[]\n",
    "kla_range=range(1,20)"
   ]
  },
  {
   "cell_type": "code",
   "execution_count": 4,
   "id": "98739669-76dc-48be-a1d4-b4a7b372df1b",
   "metadata": {},
   "outputs": [],
   "source": [
    "for k in kla_range:\n",
    "    kem=KMeans(n_clusters=k,random_state=0)\n",
    "    kem.fit(d2)\n",
    "    direction.append(kem.inertia_)"
   ]
  },
  {
   "cell_type": "code",
   "execution_count": 5,
   "id": "66a59fc1-ed95-4134-b072-14c0da578776",
   "metadata": {},
   "outputs": [],
   "source": [
    "direc=[]\n",
    "klaster_range=range(1,20)\n",
    "for kl in klaster_range:\n",
    "    klas=KMeans(n_clusters=kl, random_state=0)\n",
    "    klas.fit(d3)\n",
    "    direc.append(klas.inertia_)"
   ]
  },
  {
   "cell_type": "code",
   "execution_count": null,
   "id": "4b823aec-cc7a-4eda-be33-84fad2286d4f",
   "metadata": {},
   "outputs": [],
   "source": [
    "plt.plot(kla_range,direction,marker='o')\n",
    "plt.xlabel(\"Numer Klastra\")\n",
    "plt.ylabel(\"Kierunek\")\n",
    "plt.title(\"metoda łokcia(2D)\")\n",
    "plt.show()"
   ]
  },
  {
   "cell_type": "code",
   "execution_count": null,
   "id": "ea120070-8aa8-479b-bb16-5eda5512da59",
   "metadata": {},
   "outputs": [],
   "source": [
    "plt.plot(klaster_range,direc,marker='o')\n",
    "plt.xlabel(\"Numer Klastra\")\n",
    "plt.ylabel(\"Kierunek\")\n",
    "plt.title(\"metoda łokcia(3D)\")\n",
    "plt.show()"
   ]
  },
  {
   "cell_type": "code",
   "execution_count": null,
   "id": "a3c408aa-d345-46e3-b511-13ce57392cd2",
   "metadata": {},
   "outputs": [],
   "source": [
    "kemens_2d=KMeans(n_clusters=5,random_state=30)\n",
    "file_2d['clamer']=kemens_2d.fit_predict(d2)\n",
    "plt.figure(figsize=(8,5))\n",
    "sns.scatterplot(x=file_2d.iloc[:,0],y=file_2d.iloc[:,1],hue='clamer',data=file_2d,palette='viridis')\n",
    "plt.title(\"Wynik Grupowy 2-D\")\n",
    "plt.show()"
   ]
  }
 ],
 "metadata": {
  "kernelspec": {
   "display_name": "Python 3 (ipykernel)",
   "language": "python",
   "name": "python3"
  },
  "language_info": {
   "codemirror_mode": {
    "name": "ipython",
    "version": 3
   },
   "file_extension": ".py",
   "mimetype": "text/x-python",
   "name": "python",
   "nbconvert_exporter": "python",
   "pygments_lexer": "ipython3",
   "version": "3.12.2"
  }
 },
 "nbformat": 4,
 "nbformat_minor": 5
}
