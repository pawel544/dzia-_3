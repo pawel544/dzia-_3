{
 "cells": [
  {
   "cell_type": "code",
   "execution_count": 7,
   "id": "af7908c6-08e1-4a86-bca6-9a3fad9604cd",
   "metadata": {},
   "outputs": [],
   "source": [
    "from sklearn.preprocessing import StandardScaler\n",
    "import numpy as np\n",
    "from sklearn.svm import SVC\n",
    "from sklearn.model_selection import train_test_split \n",
    "import pandas as pd\n",
    "import os\n",
    "import glob"
   ]
  },
  {
   "cell_type": "code",
   "execution_count": 12,
   "id": "049d0f5e-e30a-40b0-8514-08e3ddb8e2dc",
   "metadata": {},
   "outputs": [],
   "source": [
    "data= r\"C:\\Users\\pawel\\Desktop\\data\"\n",
    "\n",
    "exeel_fille= glob.glob(os.path.join(dat,\"**\",\"*.xlsm\"), recursive=True)\n",
    "activity_labels=['idle', 'running', \"stairs\", \"walking\"]\n",
    "files={label:[] for label in activity_labels}"
   ]
  },
  {
   "cell_type": "code",
   "execution_count": 13,
   "id": "afad915b-6704-4983-8fbc-aa9c1ef75c6d",
   "metadata": {},
   "outputs": [],
   "source": [
    "\n",
    "for root,dirs,filles in os.walk(data):\n",
    "\n",
    "\n",
    "    for file in filles:\n",
    "        for label in activity_labels :\n",
    "            if label in file and  file.endswith(\"csv\"):\n",
    "                path = os.path.join(root, file)\n",
    "                try:\n",
    "                    read = pd.read_csv(path)\n",
    "                    read['activity'] = label\n",
    "                    files[label].append(read)\n",
    "\n",
    "                except Exception as e:\n",
    "                    print(f\"Błąd podczas wczytywania pliku: {path}\")\n",
    "                    print(f\"Szczegóły błędu: {e}\")\n"
   ]
  },
  {
   "cell_type": "code",
   "execution_count": null,
   "id": "88617139-8364-4a4f-8422-40be8d2c79c3",
   "metadata": {},
   "outputs": [],
   "source": []
  },
  {
   "cell_type": "code",
   "execution_count": 23,
   "id": "f65d9190-a3fd-4e54-b691-4684b4aba991",
   "metadata": {},
   "outputs": [],
   "source": [
    "if any(files.values()):\n",
    "    data_fatms=[]\n",
    "    for label in activity_labels:\n",
    "        if files[label]:\n",
    "            data_fatms.append(pd.concat(files[label], ignore_index=True))\n",
    "    data=pd.concat(data_fatms, ignore_index=True)\n",
    "    data=data.dropna()\n",
    "    x = data[[\"accelerometer_X\", \"accelerometer_Y\", \"accelerometer_Z\"]].values\n",
    "    y = data[\"activity\"].values\n",
    "    scalar = StandardScaler()\n",
    "    data_scaled = scalar.fit_transform(x)\n",
    "    if len(x) != len(y):\n",
    "        print(f\"Różne długości x i y: {len(x)} vs {len(y)}\")\n",
    "    else:\n",
    "\n",
    "        X_train, X_test, y_train, y_test = train_test_split(data_scaled,y, test_size=0.4, random_state=40)\n",
    "\n",
    "        model_Y = SVC(kernel=\"rbf\", C=1, gamma=\"auto\")\n",
    "        model_Y.fit(X_train, y_train)\n",
    "\n",
    "        print(\"Model Y:\")\n",
    "        print(model_Y)"
   ]
  },
  {
   "cell_type": "code",
   "execution_count": 20,
   "id": "b6425a9f-b3e2-498d-b658-828fef72165b",
   "metadata": {},
   "outputs": [
    {
     "ename": "NameError",
     "evalue": "name 'x' is not defined",
     "output_type": "error",
     "traceback": [
      "\u001b[1;31m---------------------------------------------------------------------------\u001b[0m",
      "\u001b[1;31mNameError\u001b[0m                                 Traceback (most recent call last)",
      "Cell \u001b[1;32mIn[20], line 1\u001b[0m\n\u001b[1;32m----> 1\u001b[0m \u001b[38;5;28;01mif\u001b[39;00m \u001b[38;5;28mlen\u001b[39m(\u001b[43mx\u001b[49m) \u001b[38;5;241m!=\u001b[39m \u001b[38;5;28mlen\u001b[39m(y):\n\u001b[0;32m      2\u001b[0m     \u001b[38;5;28mprint\u001b[39m(\u001b[38;5;124mf\u001b[39m\u001b[38;5;124m\"\u001b[39m\u001b[38;5;124mRóżne długości X i y: \u001b[39m\u001b[38;5;132;01m{\u001b[39;00m\u001b[38;5;28mlen\u001b[39m(x)\u001b[38;5;132;01m}\u001b[39;00m\u001b[38;5;124m vs \u001b[39m\u001b[38;5;132;01m{\u001b[39;00m\u001b[38;5;28mlen\u001b[39m(y)\u001b[38;5;132;01m}\u001b[39;00m\u001b[38;5;124m\"\u001b[39m)\n\u001b[0;32m      3\u001b[0m \u001b[38;5;28;01melse\u001b[39;00m:\n",
      "\u001b[1;31mNameError\u001b[0m: name 'x' is not defined"
     ]
    }
   ],
   "source": []
  },
  {
   "cell_type": "code",
   "execution_count": null,
   "id": "7fc5665a-0b9c-4b5f-906e-65e7457280fc",
   "metadata": {},
   "outputs": [],
   "source": []
  },
  {
   "cell_type": "code",
   "execution_count": null,
   "id": "cf8a41e3-2e8e-4840-844e-4e3c93a19976",
   "metadata": {},
   "outputs": [],
   "source": []
  },
  {
   "cell_type": "code",
   "execution_count": null,
   "id": "193c2876-70e2-483c-b5be-a2047635d13a",
   "metadata": {},
   "outputs": [],
   "source": []
  },
  {
   "cell_type": "code",
   "execution_count": null,
   "id": "79b26eab-de04-49f2-90ff-59b87a1cfe03",
   "metadata": {},
   "outputs": [],
   "source": []
  },
  {
   "cell_type": "code",
   "execution_count": null,
   "id": "4d7b69dd-c553-4a83-96b2-63c284f977c8",
   "metadata": {},
   "outputs": [],
   "source": []
  }
 ],
 "metadata": {
  "kernelspec": {
   "display_name": "Python 3 (ipykernel)",
   "language": "python",
   "name": "python3"
  },
  "language_info": {
   "codemirror_mode": {
    "name": "ipython",
    "version": 3
   },
   "file_extension": ".py",
   "mimetype": "text/x-python",
   "name": "python",
   "nbconvert_exporter": "python",
   "pygments_lexer": "ipython3",
   "version": "3.12.2"
  }
 },
 "nbformat": 4,
 "nbformat_minor": 5
}
